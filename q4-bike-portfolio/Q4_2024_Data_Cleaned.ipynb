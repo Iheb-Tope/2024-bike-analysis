{
 "cells": [
  {
   "cell_type": "markdown",
   "id": "b8f98596-f15d-48c9-bcf5-618f064e56f7",
   "metadata": {},
   "source": [
    "# Q4 2024 Bike-Rides Analysis\n",
    "\n",
    "**Objective:**  \n",
    "- Load and clean raw trips data  \n",
    "- Compute ride durations and weekday features  \n",
    "- Summarize usage patterns by day, hour, and user type  \n",
    "- Visualize key metrics"
   ]
  },
  {
   "cell_type": "code",
   "execution_count": 1,
   "id": "cdb81700-efcf-4968-b8a0-c3d7e56f05f3",
   "metadata": {},
   "outputs": [
    {
     "name": "stdout",
     "output_type": "stream",
     "text": [
      "Parameters → YEAR=2024, QUARTER=4\n",
      "Loading CSVs from: data/2024_Q4_csv/*.csv\n"
     ]
    }
   ],
   "source": [
    "# ─── PARAMETERS & SETUP ─────────────────────────────────────────────────────────\n",
    "import duckdb\n",
    "import pandas as pd\n",
    "import matplotlib.pyplot as plt\n",
    "\n",
    "#  Change these values for any quarter:\n",
    "YEAR    = 2024      # calendar year\n",
    "QUARTER = 4         # 1=Jan–Mar, 2=Apr–Jun, 3=Jul–Sep, 4=Oct–Dec\n",
    "\n",
    "#  Compute our date bounds and file‐glob:\n",
    "Q_START = f\"{YEAR}-{3*(QUARTER-1)+1:02d}-01\"   # e.g. '2024-07-01' for Q4\n",
    "Q_END   = f\"{YEAR}-{3*QUARTER+1:02d}-01\"       # e.g. '2024-10-01' for Q4\n",
    "GLOB    = f\"data/{YEAR}_Q{QUARTER}_csv/*.csv\"  # e.g. 'data/2024_Q4_csv/*.csv'\n",
    "\n",
    "#  Connect (or create) DuckDB DB file\n",
    "DB_PATH = f\"rides_{YEAR}_q{QUARTER}.db\"\n",
    "con     = duckdb.connect(DB_PATH)\n",
    "\n",
    "print(f\"Parameters → YEAR={YEAR}, QUARTER={QUARTER}\")\n",
    "print(\"Loading CSVs from:\", GLOB)"
   ]
  },
  {
   "cell_type": "code",
   "execution_count": 2,
   "id": "13f7b03b-576a-4411-964b-17812ccd44cd",
   "metadata": {},
   "outputs": [
    {
     "name": "stdout",
     "output_type": "stream",
     "text": [
      "Raw rows: 1129728\n"
     ]
    }
   ],
   "source": [
    "# Ingest all CSVs into a raw view\n",
    "con.execute(f\"\"\"\n",
    "CREATE OR REPLACE VIEW raw_data_q{QUARTER} AS\n",
    "SELECT * \n",
    "FROM read_csv_auto('{GLOB}');\n",
    "\"\"\")\n",
    "raw_count = con.execute(f\"SELECT COUNT(*) FROM raw_data_q{QUARTER}\").fetchone()[0]\n",
    "print(\"Raw rows:\", raw_count)\n"
   ]
  },
  {
   "cell_type": "code",
   "execution_count": 3,
   "id": "54fdaded-a7f1-45bf-a584-22507bf0660b",
   "metadata": {},
   "outputs": [
    {
     "name": "stdout",
     "output_type": "stream",
     "text": [
      "Transformed rows: 1129728\n"
     ]
    }
   ],
   "source": [
    "# Add ride_length and day_of_week\n",
    "con.execute(f\"\"\"\n",
    "CREATE OR REPLACE VIEW data_q{QUARTER} AS\n",
    "SELECT\n",
    "  *,\n",
    "  ended_at - started_at                           AS ride_length,\n",
    "  CAST(EXTRACT(dow FROM started_at) AS INTEGER)+1  AS day_of_week\n",
    "FROM raw_data_q{QUARTER};\n",
    "\"\"\")\n",
    "trans_count = con.execute(f\"SELECT COUNT(*) FROM data_q{QUARTER}\").fetchone()[0]\n",
    "print(\"Transformed rows:\", trans_count)\n"
   ]
  },
  {
   "cell_type": "code",
   "execution_count": 4,
   "id": "1ac6ea32-4554-40ad-ac82-31457dc9c5d5",
   "metadata": {},
   "outputs": [
    {
     "ename": "ConversionException",
     "evalue": "Conversion Error: date field value out of range: \"2024-13-01\"",
     "output_type": "error",
     "traceback": [
      "\u001b[1;31m---------------------------------------------------------------------------\u001b[0m",
      "\u001b[1;31mConversionException\u001b[0m                       Traceback (most recent call last)",
      "Cell \u001b[1;32mIn[4], line 2\u001b[0m\n\u001b[0;32m      1\u001b[0m \u001b[38;5;66;03m# Build cleaned_q4 with ONLY rides that start in Q4 (Oct–Dec)\u001b[39;00m\n\u001b[1;32m----> 2\u001b[0m con\u001b[38;5;241m.\u001b[39mexecute(\u001b[38;5;124mf\u001b[39m\u001b[38;5;124m\"\"\"\u001b[39m\n\u001b[0;32m      3\u001b[0m \u001b[38;5;124mDROP TABLE IF EXISTS cleaned_q\u001b[39m\u001b[38;5;132;01m{\u001b[39;00mQUARTER\u001b[38;5;132;01m}\u001b[39;00m\u001b[38;5;124m;\u001b[39m\n\u001b[0;32m      4\u001b[0m \n\u001b[0;32m      5\u001b[0m \u001b[38;5;124mCREATE TABLE cleaned_q\u001b[39m\u001b[38;5;132;01m{\u001b[39;00mQUARTER\u001b[38;5;132;01m}\u001b[39;00m\u001b[38;5;124m AS\u001b[39m\n\u001b[0;32m      6\u001b[0m \u001b[38;5;124mSELECT DISTINCT\u001b[39m\n\u001b[0;32m      7\u001b[0m \u001b[38;5;124m    ride_id,\u001b[39m\n\u001b[0;32m      8\u001b[0m \u001b[38;5;124m    rideable_type,\u001b[39m\n\u001b[0;32m      9\u001b[0m \u001b[38;5;124m    started_at,\u001b[39m\n\u001b[0;32m     10\u001b[0m \u001b[38;5;124m    ended_at,\u001b[39m\n\u001b[0;32m     11\u001b[0m \u001b[38;5;124m    start_station_id,\u001b[39m\n\u001b[0;32m     12\u001b[0m \u001b[38;5;124m    end_station_id,\u001b[39m\n\u001b[0;32m     13\u001b[0m \u001b[38;5;124m    ROUND(start_lat,4) AS start_lat,\u001b[39m\n\u001b[0;32m     14\u001b[0m \u001b[38;5;124m    ROUND(start_lng,4) AS start_lng,\u001b[39m\n\u001b[0;32m     15\u001b[0m \u001b[38;5;124m    ROUND(end_lat,4)   AS end_lat,\u001b[39m\n\u001b[0;32m     16\u001b[0m \u001b[38;5;124m    ROUND(end_lng,4)   AS end_lng,\u001b[39m\n\u001b[0;32m     17\u001b[0m \u001b[38;5;124m    member_casual,\u001b[39m\n\u001b[0;32m     18\u001b[0m \u001b[38;5;124m    ended_at - started_at       AS ride_length,\u001b[39m\n\u001b[0;32m     19\u001b[0m \u001b[38;5;124m    CAST(EXTRACT(dow FROM started_at) AS INTEGER)+1 AS day_of_week\u001b[39m\n\u001b[0;32m     20\u001b[0m \u001b[38;5;124mFROM data_q\u001b[39m\u001b[38;5;132;01m{\u001b[39;00mQUARTER\u001b[38;5;132;01m}\u001b[39;00m\n\u001b[0;32m     21\u001b[0m \u001b[38;5;124mWHERE\u001b[39m\n\u001b[0;32m     22\u001b[0m \u001b[38;5;124m    ride_id IS NOT NULL\u001b[39m\n\u001b[0;32m     23\u001b[0m \u001b[38;5;124m    AND started_at >= DATE \u001b[39m\u001b[38;5;124m'\u001b[39m\u001b[38;5;132;01m{\u001b[39;00mQ_START\u001b[38;5;132;01m}\u001b[39;00m\u001b[38;5;124m'\u001b[39m\n\u001b[0;32m     24\u001b[0m \u001b[38;5;124m    AND started_at <  DATE \u001b[39m\u001b[38;5;124m'\u001b[39m\u001b[38;5;132;01m{\u001b[39;00mQ_END\u001b[38;5;132;01m}\u001b[39;00m\u001b[38;5;124m'\u001b[39m\n\u001b[0;32m     25\u001b[0m \u001b[38;5;124m    AND ended_at IS NOT NULL\u001b[39m\n\u001b[0;32m     26\u001b[0m \u001b[38;5;124m    AND start_lat IS NOT NULL\u001b[39m\n\u001b[0;32m     27\u001b[0m \u001b[38;5;124m    AND start_lng IS NOT NULL\u001b[39m\n\u001b[0;32m     28\u001b[0m \u001b[38;5;124m    AND end_lat IS NOT NULL\u001b[39m\n\u001b[0;32m     29\u001b[0m \u001b[38;5;124m    AND end_lng IS NOT NULL\u001b[39m\n\u001b[0;32m     30\u001b[0m \u001b[38;5;124m    AND (ended_at - started_at)\u001b[39m\n\u001b[0;32m     31\u001b[0m \u001b[38;5;124m        BETWEEN INTERVAL \u001b[39m\u001b[38;5;124m'\u001b[39m\u001b[38;5;124m1 minute\u001b[39m\u001b[38;5;124m'\u001b[39m\u001b[38;5;124m AND INTERVAL \u001b[39m\u001b[38;5;124m'\u001b[39m\u001b[38;5;124m24 hours\u001b[39m\u001b[38;5;124m'\u001b[39m\u001b[38;5;124m;\u001b[39m\n\u001b[0;32m     32\u001b[0m \u001b[38;5;124m\"\"\"\u001b[39m)\n\u001b[0;32m     33\u001b[0m cleaned_count \u001b[38;5;241m=\u001b[39m con\u001b[38;5;241m.\u001b[39mexecute(\u001b[38;5;124mf\u001b[39m\u001b[38;5;124m\"\u001b[39m\u001b[38;5;124mSELECT COUNT(*) FROM cleaned_q\u001b[39m\u001b[38;5;132;01m{\u001b[39;00mQUARTER\u001b[38;5;132;01m}\u001b[39;00m\u001b[38;5;124m\"\u001b[39m)\u001b[38;5;241m.\u001b[39mfetchone()[\u001b[38;5;241m0\u001b[39m]\n\u001b[0;32m     34\u001b[0m \u001b[38;5;28mprint\u001b[39m(\u001b[38;5;124m\"\u001b[39m\u001b[38;5;124mCleaned rows:\u001b[39m\u001b[38;5;124m\"\u001b[39m, cleaned_count)\n",
      "\u001b[1;31mConversionException\u001b[0m: Conversion Error: date field value out of range: \"2024-13-01\""
     ]
    }
   ],
   "source": [
    "# Build cleaned_q4 with ONLY rides that start in Q4 (Oct–Dec)\n",
    "con.execute(f\"\"\"\n",
    "DROP TABLE IF EXISTS cleaned_q{QUARTER};\n",
    "\n",
    "CREATE TABLE cleaned_q{QUARTER} AS\n",
    "SELECT DISTINCT\n",
    "    ride_id,\n",
    "    rideable_type,\n",
    "    started_at,\n",
    "    ended_at,\n",
    "    start_station_id,\n",
    "    end_station_id,\n",
    "    ROUND(start_lat,4) AS start_lat,\n",
    "    ROUND(start_lng,4) AS start_lng,\n",
    "    ROUND(end_lat,4)   AS end_lat,\n",
    "    ROUND(end_lng,4)   AS end_lng,\n",
    "    member_casual,\n",
    "    ended_at - started_at       AS ride_length,\n",
    "    CAST(EXTRACT(dow FROM started_at) AS INTEGER)+1 AS day_of_week\n",
    "FROM data_q{QUARTER}\n",
    "WHERE\n",
    "    ride_id IS NOT NULL\n",
    "    AND started_at >= DATE '{Q_START}'\n",
    "    AND started_at <  DATE '{Q_END}'\n",
    "    AND ended_at IS NOT NULL\n",
    "    AND start_lat IS NOT NULL\n",
    "    AND start_lng IS NOT NULL\n",
    "    AND end_lat IS NOT NULL\n",
    "    AND end_lng IS NOT NULL\n",
    "    AND (ended_at - started_at)\n",
    "        BETWEEN INTERVAL '1 minute' AND INTERVAL '24 hours';\n",
    "\"\"\")\n",
    "cleaned_count = con.execute(f\"SELECT COUNT(*) FROM cleaned_q{QUARTER}\").fetchone()[0]\n",
    "print(\"Cleaned rows:\", cleaned_count)"
   ]
  },
  {
   "cell_type": "code",
   "execution_count": null,
   "id": "c58a5b5c-1a5b-4eb2-9dce-f4c5f1026e5e",
   "metadata": {},
   "outputs": [],
   "source": [
    "# ─── QUALITY CHECKS ────────────────────────────────────────────────────────────\n",
    "#  1) No nulls in key columns\n",
    "#  2) No negative ride durations (ended_at < started_at)\n",
    "\n",
    "nulls = con.execute(f\"\"\"\n",
    "SELECT\n",
    "  SUM(CASE WHEN ride_id IS NULL THEN 1 ELSE 0 END)                             AS ride_id_nulls,\n",
    "  SUM(CASE WHEN start_lat IS NULL THEN 1 ELSE 0 END)                           AS start_lat_nulls,\n",
    "  SUM(CASE WHEN EXTRACT(epoch FROM ride_length) < 0 THEN 1 ELSE 0 END)         AS negative_durations\n",
    "FROM cleaned_q{QUARTER};\n",
    "\"\"\").df()\n",
    "\n",
    "display(nulls)\n",
    "\n",
    "# Assert that all “bad” counts are zero\n",
    "assert nulls.loc[0].sum() == 0, \"Found unexpected nulls or negative durations!\"\n",
    "print(\"Quality checks passed: no nulls, no negative durations\")"
   ]
  },
  {
   "cell_type": "code",
   "execution_count": null,
   "id": "1ae558a2-ab5b-4274-a383-40dfb0459c6e",
   "metadata": {},
   "outputs": [],
   "source": [
    "# ─── CREATE DAILY RIDES VIEW ───────────────────────────────────────────────────\n",
    "con.execute(f\"\"\"\n",
    "CREATE OR REPLACE VIEW rides_per_day_q{QUARTER} AS\n",
    "SELECT\n",
    "  DATE(started_at)                     AS ride_date,\n",
    "  COUNT(*)                             AS total_rides,\n",
    "  AVG(EXTRACT(epoch FROM ride_length))/60.0 AS avg_duration_min\n",
    "FROM cleaned_q{QUARTER}\n",
    "GROUP BY ride_date\n",
    "ORDER BY ride_date;\n",
    "\"\"\")\n"
   ]
  },
  {
   "cell_type": "code",
   "execution_count": null,
   "id": "ed88151b-2119-4632-ae14-73aaeb0ffe00",
   "metadata": {},
   "outputs": [],
   "source": [
    "# ─── CREATE HOURLY RIDES VIEW ──────────────────────────────────────────────────\n",
    "con.execute(f\"\"\"\n",
    "CREATE OR REPLACE VIEW rides_by_hour_q{QUARTER} AS\n",
    "SELECT\n",
    "  EXTRACT(hour FROM started_at) AS hour_of_day,\n",
    "  COUNT(*)                     AS ride_count\n",
    "FROM cleaned_q{QUARTER}\n",
    "GROUP BY hour_of_day\n",
    "ORDER BY hour_of_day;\n",
    "\"\"\")"
   ]
  },
  {
   "cell_type": "code",
   "execution_count": null,
   "id": "f753ac7b-40a9-4a38-a8b1-972e3105ea37",
   "metadata": {},
   "outputs": [],
   "source": [
    "# ─── PLOT: DAILY RIDES ─────────────────────────────────────────────────────────\n",
    "df_day = con.execute(f\"SELECT * FROM rides_per_day_q{QUARTER}\").df()\n",
    "plt.figure()\n",
    "df_day.plot(x='ride_date', y='total_rides', legend=False)\n",
    "plt.title(f\"Daily Ride Counts (Q{QUARTER} {YEAR})\")\n",
    "plt.xlabel(\"Date\")\n",
    "plt.ylabel(\"Number of Rides\")\n",
    "plt.tight_layout()\n",
    "plt.show()"
   ]
  },
  {
   "cell_type": "code",
   "execution_count": null,
   "id": "2c256364-f1ac-4e62-8dad-f4a9f2988a38",
   "metadata": {},
   "outputs": [],
   "source": [
    "# ─── PLOT: HOURLY RIDES ────────────────────────────────────────────────────────\n",
    "df_hour = con.execute(f\"SELECT * FROM rides_by_hour_q{QUARTER}\").df()\n",
    "plt.figure()\n",
    "df_hour.plot(x='hour_of_day', y='ride_count', legend=False)\n",
    "plt.title(f\"Ride Counts by Hour of Day (Q{QUARTER} {YEAR})\")\n",
    "plt.xlabel(\"Hour of Day\")\n",
    "plt.ylabel(\"Rides\")\n",
    "plt.tight_layout()\n",
    "plt.show()"
   ]
  },
  {
   "cell_type": "code",
   "execution_count": null,
   "id": "515a4016-6b96-401c-8541-3ac4f7de10cc",
   "metadata": {},
   "outputs": [],
   "source": [
    "# ─── MONTHLY METRICS (mean, max, mode day) ────────────────────────────────────\n",
    "monthly_metrics = con.execute(f\"\"\"\n",
    "WITH base AS (\n",
    "  SELECT\n",
    "    EXTRACT(month FROM started_at)::INT         AS month,\n",
    "    EXTRACT(epoch FROM (ended_at - started_at)) AS duration_sec,\n",
    "    day_of_week\n",
    "  FROM cleaned_q{QUARTER}\n",
    ")\n",
    "SELECT\n",
    "  month,\n",
    "  ROUND(AVG(duration_sec)/60.0, 2) AS mean_duration_min,\n",
    "  ROUND(MAX(duration_sec)/60.0,   2) AS max_duration_min,\n",
    "  (\n",
    "    SELECT day_of_week\n",
    "    FROM (\n",
    "      SELECT day_of_week, COUNT(*) AS cnt\n",
    "      FROM base b2\n",
    "      WHERE b2.month = b1.month\n",
    "      GROUP BY day_of_week\n",
    "      ORDER BY cnt DESC\n",
    "      LIMIT 1\n",
    "    )\n",
    "  ) AS mode_day_of_week\n",
    "FROM base b1\n",
    "GROUP BY month\n",
    "ORDER BY month;\n",
    "\"\"\").df()\n",
    "monthly_metrics"
   ]
  },
  {
   "cell_type": "code",
   "execution_count": null,
   "id": "f983b2a7-e250-409f-bc6a-8eaf95b64739",
   "metadata": {},
   "outputs": [],
   "source": [
    "# ─── ADD HUMAN‐READABLE WEEKDAY ───────────────────────────────────────────────\n",
    "weekday_map = {\n",
    "    1: 'Sunday',  2: 'Monday',  3: 'Tuesday', 4: 'Wednesday',\n",
    "    5: 'Thursday',6: 'Friday',  7: 'Saturday'\n",
    "}\n",
    "\n",
    "monthly_metrics['mode_day_name'] = (\n",
    "    monthly_metrics['mode_day_of_week']\n",
    "      .map(weekday_map)\n",
    ")\n",
    "\n",
    "# reorder columns for clarity\n",
    "monthly_metrics = monthly_metrics[[\n",
    "    'month',\n",
    "    'mean_duration_min',\n",
    "    'max_duration_min',\n",
    "    'mode_day_of_week',\n",
    "    'mode_day_name'\n",
    "]]\n",
    "\n",
    "monthly_metrics"
   ]
  },
  {
   "cell_type": "code",
   "execution_count": null,
   "id": "55ac7e27-3004-481d-af60-683edfc40aef",
   "metadata": {},
   "outputs": [],
   "source": []
  }
 ],
 "metadata": {
  "kernelspec": {
   "display_name": "Python [conda env:base] *",
   "language": "python",
   "name": "conda-base-py"
  },
  "language_info": {
   "codemirror_mode": {
    "name": "ipython",
    "version": 3
   },
   "file_extension": ".py",
   "mimetype": "text/x-python",
   "name": "python",
   "nbconvert_exporter": "python",
   "pygments_lexer": "ipython3",
   "version": "3.12.7"
  }
 },
 "nbformat": 4,
 "nbformat_minor": 5
}
